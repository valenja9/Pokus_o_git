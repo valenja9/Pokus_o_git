{
  "nbformat": 4,
  "nbformat_minor": 0,
  "metadata": {
    "colab": {
      "name": "Lekce_2_podklady.ipynb",
      "provenance": [],
      "authorship_tag": "ABX9TyOk+gCgy0LteLN6ThA0rgck",
      "include_colab_link": true
    },
    "kernelspec": {
      "name": "python3",
      "display_name": "Python 3"
    }
  },
  "cells": [
    {
      "cell_type": "markdown",
      "metadata": {
        "id": "view-in-github",
        "colab_type": "text"
      },
      "source": [
        "<a href=\"https://colab.research.google.com/github/valenja9/Pokus_o_git/blob/master/Lekce_2_podklady.ipynb\" target=\"_parent\"><img src=\"https://colab.research.google.com/assets/colab-badge.svg\" alt=\"Open In Colab\"/></a>"
      ]
    },
    {
      "cell_type": "markdown",
      "metadata": {
        "id": "zhBBXxRwYese"
      },
      "source": [
        "Jak vznikají moje proměnné?"
      ]
    },
    {
      "cell_type": "markdown",
      "metadata": {
        "id": "aGaK-FgyYaZX"
      },
      "source": [
        "![class_and_object.png](data:image/png;base64,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)"
      ]
    },
    {
      "cell_type": "code",
      "metadata": {
        "id": "6L_sByMiYrEX"
      },
      "source": [
        "text = str(\"Tohle je text\")"
      ],
      "execution_count": null,
      "outputs": []
    },
    {
      "cell_type": "code",
      "metadata": {
        "colab": {
          "base_uri": "https://localhost:8080/",
          "height": 35
        },
        "id": "cV8KJXhOYuZJ",
        "outputId": "0a560552-5ad1-418c-d9cf-e58341e43fa5"
      },
      "source": [
        "text.title()"
      ],
      "execution_count": null,
      "outputs": [
        {
          "output_type": "execute_result",
          "data": {
            "application/vnd.google.colaboratory.intrinsic+json": {
              "type": "string"
            },
            "text/plain": [
              "'Tohle Je Text'"
            ]
          },
          "metadata": {
            "tags": []
          },
          "execution_count": 12
        }
      ]
    },
    {
      "cell_type": "code",
      "metadata": {
        "colab": {
          "base_uri": "https://localhost:8080/"
        },
        "id": "YFST1VUcfaZR",
        "outputId": "04012018-544f-48b3-aa9c-54a4b616230a"
      },
      "source": [
        "print(\"text\", \"text2\")"
      ],
      "execution_count": null,
      "outputs": [
        {
          "output_type": "stream",
          "text": [
            "text text2\n"
          ],
          "name": "stdout"
        }
      ]
    },
    {
      "cell_type": "code",
      "metadata": {
        "colab": {
          "base_uri": "https://localhost:8080/"
        },
        "id": "xJqcSv4hezg5",
        "outputId": "5fa440d3-8455-421e-c66f-fdafa73f76f1"
      },
      "source": [
        "kandidati = [\"Jakub\", \"Petr\"]\n",
        "\n",
        "print(\"Nová jména přidána do kandidati: \", kandidati, sep=\"\",)\n",
        "print(\"Nová jména přidána do kandidati: \" + str(kandidati))\n",
        "print(f\"Nová jména přidána do kandidati: {kandidati}\")"
      ],
      "execution_count": null,
      "outputs": [
        {
          "output_type": "stream",
          "text": [
            "Nová jména přidána do kandidati: ['Jakub', 'Petr']\n",
            "Nová jména přidána do kandidati: ['Jakub', 'Petr']\n",
            "Nová jména přidána do kandidati: ['Jakub', 'Petr']\n"
          ],
          "name": "stdout"
        }
      ]
    },
    {
      "cell_type": "markdown",
      "metadata": {
        "id": "QjTDelgOI3w4"
      },
      "source": [
        "List vs tuple!"
      ]
    },
    {
      "cell_type": "markdown",
      "metadata": {
        "id": "jmWWrZT_UgDd"
      },
      "source": [
        "Tuple je neměnitelný! Nelze měnit jeho hodnoty!  List je měnitelný!"
      ]
    },
    {
      "cell_type": "code",
      "metadata": {
        "id": "YLYZye4HUqM1",
        "colab": {
          "base_uri": "https://localhost:8080/",
          "height": 34
        },
        "outputId": "3711fc7f-4b5d-4b23-d34b-1761c743a469"
      },
      "source": [
        "mylist = [21, 5, 8, 52, 21, 87]\n",
        "mylist[0] = 10\n",
        "print(mylist)"
      ],
      "execution_count": null,
      "outputs": [
        {
          "output_type": "stream",
          "text": [
            "[10, 5, 8, 52, 21, 87]\n"
          ],
          "name": "stdout"
        }
      ]
    },
    {
      "cell_type": "code",
      "metadata": {
        "id": "w6vSEXgZU0P4",
        "colab": {
          "base_uri": "https://localhost:8080/",
          "height": 195
        },
        "outputId": "dbfa2c69-c335-4705-83aa-237e6b405f18"
      },
      "source": [
        "mytuple = (21, 5, 8, 52, 21, 87)\n",
        "mytuple[0] = 10\n",
        "print(mytuple)"
      ],
      "execution_count": null,
      "outputs": [
        {
          "output_type": "error",
          "ename": "TypeError",
          "evalue": "ignored",
          "traceback": [
            "\u001b[0;31m---------------------------------------------------------------------------\u001b[0m",
            "\u001b[0;31mTypeError\u001b[0m                                 Traceback (most recent call last)",
            "\u001b[0;32m<ipython-input-7-7896492912e8>\u001b[0m in \u001b[0;36m<module>\u001b[0;34m()\u001b[0m\n\u001b[1;32m      1\u001b[0m \u001b[0mmytuple\u001b[0m \u001b[0;34m=\u001b[0m \u001b[0;34m(\u001b[0m\u001b[0;36m21\u001b[0m\u001b[0;34m,\u001b[0m \u001b[0;36m5\u001b[0m\u001b[0;34m,\u001b[0m \u001b[0;36m8\u001b[0m\u001b[0;34m,\u001b[0m \u001b[0;36m52\u001b[0m\u001b[0;34m,\u001b[0m \u001b[0;36m21\u001b[0m\u001b[0;34m,\u001b[0m \u001b[0;36m87\u001b[0m\u001b[0;34m)\u001b[0m\u001b[0;34m\u001b[0m\u001b[0;34m\u001b[0m\u001b[0m\n\u001b[0;32m----> 2\u001b[0;31m \u001b[0mmytuple\u001b[0m\u001b[0;34m[\u001b[0m\u001b[0;36m0\u001b[0m\u001b[0;34m]\u001b[0m \u001b[0;34m=\u001b[0m \u001b[0;36m10\u001b[0m\u001b[0;34m\u001b[0m\u001b[0;34m\u001b[0m\u001b[0m\n\u001b[0m\u001b[1;32m      3\u001b[0m \u001b[0mprint\u001b[0m\u001b[0;34m(\u001b[0m\u001b[0mmytuple\u001b[0m\u001b[0;34m)\u001b[0m\u001b[0;34m\u001b[0m\u001b[0;34m\u001b[0m\u001b[0m\n",
            "\u001b[0;31mTypeError\u001b[0m: 'tuple' object does not support item assignment"
          ]
        }
      ]
    },
    {
      "cell_type": "markdown",
      "metadata": {
        "id": "DfIWTIssVIaa"
      },
      "source": [
        "Pozor na dynamičnost pythonu!"
      ]
    },
    {
      "cell_type": "code",
      "metadata": {
        "id": "81fJ_RUoVMm1",
        "colab": {
          "base_uri": "https://localhost:8080/",
          "height": 34
        },
        "outputId": "6b347eb7-12e6-4933-9a84-7e8a888f77cf"
      },
      "source": [
        "promena = 6\n",
        "promena = \"šest\"\n",
        "promena = [\"20\",\"40\", 50]\n",
        "print(promena)"
      ],
      "execution_count": null,
      "outputs": [
        {
          "output_type": "stream",
          "text": [
            "['20', '40', 50]\n"
          ],
          "name": "stdout"
        }
      ]
    },
    {
      "cell_type": "markdown",
      "metadata": {
        "id": "95beiouhVkj8"
      },
      "source": [
        "#Jak pracovat s datovým tipem"
      ]
    },
    {
      "cell_type": "code",
      "metadata": {
        "id": "3KZmCNT2Vjlf",
        "colab": {
          "base_uri": "https://localhost:8080/",
          "height": 790
        },
        "outputId": "237ceaa6-6948-40b3-f349-3c6e2573efc1"
      },
      "source": [
        "dir(promena)"
      ],
      "execution_count": null,
      "outputs": [
        {
          "output_type": "execute_result",
          "data": {
            "text/plain": [
              "['__add__',\n",
              " '__class__',\n",
              " '__contains__',\n",
              " '__delattr__',\n",
              " '__delitem__',\n",
              " '__dir__',\n",
              " '__doc__',\n",
              " '__eq__',\n",
              " '__format__',\n",
              " '__ge__',\n",
              " '__getattribute__',\n",
              " '__getitem__',\n",
              " '__gt__',\n",
              " '__hash__',\n",
              " '__iadd__',\n",
              " '__imul__',\n",
              " '__init__',\n",
              " '__init_subclass__',\n",
              " '__iter__',\n",
              " '__le__',\n",
              " '__len__',\n",
              " '__lt__',\n",
              " '__mul__',\n",
              " '__ne__',\n",
              " '__new__',\n",
              " '__reduce__',\n",
              " '__reduce_ex__',\n",
              " '__repr__',\n",
              " '__reversed__',\n",
              " '__rmul__',\n",
              " '__setattr__',\n",
              " '__setitem__',\n",
              " '__sizeof__',\n",
              " '__str__',\n",
              " '__subclasshook__',\n",
              " 'append',\n",
              " 'clear',\n",
              " 'copy',\n",
              " 'count',\n",
              " 'extend',\n",
              " 'index',\n",
              " 'insert',\n",
              " 'pop',\n",
              " 'remove',\n",
              " 'reverse',\n",
              " 'sort']"
            ]
          },
          "metadata": {
            "tags": []
          },
          "execution_count": 9
        }
      ]
    },
    {
      "cell_type": "code",
      "metadata": {
        "id": "iwdIYG99V8SX"
      },
      "source": [
        "text = \"Tohle je určitě string!\""
      ],
      "execution_count": null,
      "outputs": []
    },
    {
      "cell_type": "code",
      "metadata": {
        "id": "u072PQ35WCQO",
        "colab": {
          "base_uri": "https://localhost:8080/",
          "height": 1000
        },
        "outputId": "5ecb3538-f092-4b7a-bbd3-2ed6b93ca6bc"
      },
      "source": [
        "dir(text)"
      ],
      "execution_count": null,
      "outputs": [
        {
          "output_type": "execute_result",
          "data": {
            "text/plain": [
              "['__add__',\n",
              " '__class__',\n",
              " '__contains__',\n",
              " '__delattr__',\n",
              " '__dir__',\n",
              " '__doc__',\n",
              " '__eq__',\n",
              " '__format__',\n",
              " '__ge__',\n",
              " '__getattribute__',\n",
              " '__getitem__',\n",
              " '__getnewargs__',\n",
              " '__gt__',\n",
              " '__hash__',\n",
              " '__init__',\n",
              " '__init_subclass__',\n",
              " '__iter__',\n",
              " '__le__',\n",
              " '__len__',\n",
              " '__lt__',\n",
              " '__mod__',\n",
              " '__mul__',\n",
              " '__ne__',\n",
              " '__new__',\n",
              " '__reduce__',\n",
              " '__reduce_ex__',\n",
              " '__repr__',\n",
              " '__rmod__',\n",
              " '__rmul__',\n",
              " '__setattr__',\n",
              " '__sizeof__',\n",
              " '__str__',\n",
              " '__subclasshook__',\n",
              " 'capitalize',\n",
              " 'casefold',\n",
              " 'center',\n",
              " 'count',\n",
              " 'encode',\n",
              " 'endswith',\n",
              " 'expandtabs',\n",
              " 'find',\n",
              " 'format',\n",
              " 'format_map',\n",
              " 'index',\n",
              " 'isalnum',\n",
              " 'isalpha',\n",
              " 'isdecimal',\n",
              " 'isdigit',\n",
              " 'isidentifier',\n",
              " 'islower',\n",
              " 'isnumeric',\n",
              " 'isprintable',\n",
              " 'isspace',\n",
              " 'istitle',\n",
              " 'isupper',\n",
              " 'join',\n",
              " 'ljust',\n",
              " 'lower',\n",
              " 'lstrip',\n",
              " 'maketrans',\n",
              " 'partition',\n",
              " 'replace',\n",
              " 'rfind',\n",
              " 'rindex',\n",
              " 'rjust',\n",
              " 'rpartition',\n",
              " 'rsplit',\n",
              " 'rstrip',\n",
              " 'split',\n",
              " 'splitlines',\n",
              " 'startswith',\n",
              " 'strip',\n",
              " 'swapcase',\n",
              " 'title',\n",
              " 'translate',\n",
              " 'upper',\n",
              " 'zfill']"
            ]
          },
          "metadata": {
            "tags": []
          },
          "execution_count": 11
        }
      ]
    },
    {
      "cell_type": "code",
      "metadata": {
        "id": "6FZ_TcaVWGi_",
        "colab": {
          "base_uri": "https://localhost:8080/",
          "height": 35
        },
        "outputId": "efd80fc4-bd05-4a9a-a656-2b3552e4c123"
      },
      "source": [
        "text.title()"
      ],
      "execution_count": null,
      "outputs": [
        {
          "output_type": "execute_result",
          "data": {
            "application/vnd.google.colaboratory.intrinsic+json": {
              "type": "string"
            },
            "text/plain": [
              "'Tohle Je Určitě String!'"
            ]
          },
          "metadata": {
            "tags": []
          },
          "execution_count": 12
        }
      ]
    },
    {
      "cell_type": "code",
      "metadata": {
        "id": "_C_sset3WJU1",
        "colab": {
          "base_uri": "https://localhost:8080/",
          "height": 35
        },
        "outputId": "c5df198c-56d1-4131-911b-ef92ce9b9854"
      },
      "source": [
        "text #Nemění se string"
      ],
      "execution_count": null,
      "outputs": [
        {
          "output_type": "execute_result",
          "data": {
            "application/vnd.google.colaboratory.intrinsic+json": {
              "type": "string"
            },
            "text/plain": [
              "'Tohle je určitě string!'"
            ]
          },
          "metadata": {
            "tags": []
          },
          "execution_count": 13
        }
      ]
    },
    {
      "cell_type": "code",
      "metadata": {
        "id": "m1GP3LeFWYr-",
        "colab": {
          "base_uri": "https://localhost:8080/",
          "height": 35
        },
        "outputId": "304bda0b-ebb0-473d-ed13-1e5b5c4b0f68"
      },
      "source": [
        "text.title().lower() #Mohu řetězit."
      ],
      "execution_count": null,
      "outputs": [
        {
          "output_type": "execute_result",
          "data": {
            "application/vnd.google.colaboratory.intrinsic+json": {
              "type": "string"
            },
            "text/plain": [
              "'tohle je určitě string!'"
            ]
          },
          "metadata": {
            "tags": []
          },
          "execution_count": 14
        }
      ]
    },
    {
      "cell_type": "code",
      "metadata": {
        "id": "ji7c6t5LS0yP",
        "colab": {
          "base_uri": "https://localhost:8080/",
          "height": 34
        },
        "outputId": "1551d580-2628-4285-a9ab-0536b880db35"
      },
      "source": [
        "mylist = [21, 5, 8, 52, 21, 87]\n",
        "item = 8\n",
        "\n",
        "index = mylist.index(item)\n",
        "print(index)"
      ],
      "execution_count": null,
      "outputs": [
        {
          "output_type": "stream",
          "text": [
            "2\n"
          ],
          "name": "stdout"
        }
      ]
    },
    {
      "cell_type": "markdown",
      "metadata": {
        "id": "s3c3hxUyUaGn"
      },
      "source": [
        "Jak udělat ještě jinak!"
      ]
    },
    {
      "cell_type": "code",
      "metadata": {
        "id": "FIXbNNkWS8aI",
        "colab": {
          "base_uri": "https://localhost:8080/",
          "height": 353
        },
        "outputId": "b1ff38e3-2b7c-431f-cbb4-0ccd16959c47"
      },
      "source": [
        "# Zde delame priklad\n",
        "\n",
        "\n",
        "#!/usr/bin/env python3\n",
        "#\"\"\" Lekce #1 - Uvod do programovani, 1/2 Destinatio \"\"\"\n",
        "\n",
        "# I. KROK: \n",
        "# Zadame promenne, se kterymi chceme pracovat\n",
        "MESTA = ('Praha', 'Viden','Olomouc','Svitavy','Zlin','Ostrava')\n",
        "CENA = (1000, 1100, 2000, 1500, 2300, 3400)\n",
        "ODDELOVAC = '================================================================'\n",
        "\n",
        "# II. KROK:\n",
        "# Pozdravime uzivatele, oddelime text\n",
        "# Zobrazit uzivateli nasi nabidkou - <cislo> - <lokalita> | <cena>\n",
        "print(ODDELOVAC)\n",
        "print('Vytejte v nasi aplikaci.')\n",
        "print(ODDELOVAC) #pouzijeme viceradkovy string\n",
        "print('''\n",
        "1 - Praha   | 150 \n",
        "2 - Viden   | 200\n",
        "3 - Olomouc | 120\n",
        "4 - Svitavy | 120\n",
        "5 - Zlin    | 100\n",
        "6 - Ostrava | 180\n",
        "''')\n",
        "print(ODDELOVAC)\n",
        "# III. KROK:\n",
        "# Vyzadame si od uzivatele jednotlive vstupy\n",
        "# cislo destinace, jmeno, prijmeni, vek, email, heslo\n",
        "# jmeno = input('Zadej svoje jmeno') # Prazdny input , pak bez mezery.\n",
        "# print(jmeno)\n",
        "\n",
        "# JMENO = input('Zadej jmeno: ')\n",
        "# PRIJMENI = input('Zadej prijmeni: ')\n",
        "# VEK = input('Zadej vek: ')\n",
        "# EMAIL = input('Zadej svuj email: ')\n",
        "# HESLO = input('Zadej svoje heslo: ')\n",
        "print(ODDELOVAC)\n",
        "# IV. KROK:\n",
        "# Modifikujeme tyto hodnoty\n",
        "jmeno_destinace = input('Zadej jmeno destinace: ') #pozor!!!!\n",
        "index = MESTA.index(jmeno_destinace)\n",
        "spravna_destinace = MESTA[index] # umim preci ukladat.\n",
        "spravna_cena = CENA[index] # umim preci ukladat.\n",
        "print(ODDELOVAC)\n",
        "# V. KROK:\n",
        "# Vystupni sekce, vypisujeme konkretni udaje\n",
        "# Jmeno, destinaci, cenu, email\n",
        "print('Tve jmeno: ', JMENO) \n",
        "print('Tve jmeno: ' +  PRIJMENI)\n",
        "print('Tva destinace: ', spravna_destinace)\n",
        "print(f'Tva cena: { spravna_cena}' )\n",
        "print('Jizdenku posleme na Vasi emailovou adresu: ', EMAIL)"
      ],
      "execution_count": null,
      "outputs": [
        {
          "output_type": "stream",
          "text": [
            "================================================================\n",
            "Vytejte v nasi aplikaci.\n",
            "================================================================\n",
            "\n",
            "1 - Praha   | 150 \n",
            "2 - Viden   | 200\n",
            "3 - Olomouc | 120\n",
            "4 - Svitavy | 120\n",
            "5 - Zlin    | 100\n",
            "6 - Ostrava | 180\n",
            "\n",
            "================================================================\n",
            "================================================================\n",
            "Zadej jmeno destinace: Praha\n",
            "================================================================\n",
            "Tve jmeno:  Praha\n",
            "Tve jmeno: V\n",
            "Tva destinace:  Praha\n",
            "Tva cena: 1000\n",
            "Jizdenku posleme na Vasi emailovou adresu:  d\n"
          ],
          "name": "stdout"
        }
      ]
    },
    {
      "cell_type": "markdown",
      "metadata": {
        "id": "xNE-AwZyR1G_"
      },
      "source": [
        "Vylepšeme naši aplikaci na cestování!"
      ]
    },
    {
      "cell_type": "code",
      "metadata": {
        "id": "ERQ3W5OOP1Yk"
      },
      "source": [
        "===================================\n",
        "Vitejte u nasi aplikace Destinatio!\n",
        "===================================\n",
        "\n",
        "1 - Praha   | 150\n",
        "2 - Viden   | 200\n",
        "3 - Olomouc | 120\n",
        "4 - Svitavy | 120\n",
        "5 - Zlin    | 100\n",
        "6 - Ostrava | 180\n",
        "\n",
        "===================================\n",
        "Vyberte cislo lokality: 3\n",
        "DESTINACE: Olomouc\n",
        "===================================\n",
        "JMENO: Matous\n",
        "PRIJMENI: Holinka\n",
        "JMENO: Matous, PRIJMENI: Holinka\n",
        "===================================\n",
        "ROK NAROZENI: 1992\n",
        "Pokracuji...\n",
        "===================================\n",
        "EMAIL: matous@matous.cz\n",
        "Email v poradku, pokracuji...\n",
        "===================================\n",
        "HESLO: panpes738\n",
        "Heslo v poradku\n",
        "===================================\n",
        "UZIVATEL: Matous\n",
        "DESTINACE: Olomouc\n",
        "CENA(cil:Olomouc): 90.0\n",
        "Jizdenku posleme na Vasi emailovou adresu: matous@matous.cz"
      ],
      "execution_count": null,
      "outputs": []
    },
    {
      "cell_type": "code",
      "metadata": {
        "id": "m9w0kH430one"
      },
      "source": [
        "A = 10 \n",
        "B = 20"
      ],
      "execution_count": null,
      "outputs": []
    },
    {
      "cell_type": "code",
      "metadata": {
        "id": "Dt5tExecBqfG",
        "colab": {
          "base_uri": "https://localhost:8080/",
          "height": 34
        },
        "outputId": "a8cde6a6-7c7c-4f36-a38b-57944db3c4bd"
      },
      "source": [
        "if A < B:\n",
        "  print(\"PRAVDA! A je mensi nez B\")\n",
        "else:\n",
        "  print(\"Není  pravda.\")\n",
        "  "
      ],
      "execution_count": null,
      "outputs": [
        {
          "output_type": "stream",
          "text": [
            "PRAVDA! A je mensi nez B\n"
          ],
          "name": "stdout"
        }
      ]
    },
    {
      "cell_type": "code",
      "metadata": {
        "id": "UmDVoh7qCZc5",
        "colab": {
          "base_uri": "https://localhost:8080/",
          "height": 34
        },
        "outputId": "826226ce-4fc4-46a3-efc5-d38fe0f714e6"
      },
      "source": [
        "A < B"
      ],
      "execution_count": null,
      "outputs": [
        {
          "output_type": "execute_result",
          "data": {
            "text/plain": [
              "True"
            ]
          },
          "metadata": {
            "tags": []
          },
          "execution_count": 7
        }
      ]
    },
    {
      "cell_type": "code",
      "metadata": {
        "id": "xuAL472oCvP_"
      },
      "source": [
        "#And\n",
        "\"\"\" \n",
        "    0 - A | B | Y\n",
        "    1 - 0 | 0 | 0\n",
        "    2 - 0 | 1 | 0\n",
        "    3 - 1 | 0 | 0\n",
        "    4 - 1 | 1 | 1  \"\"\""
      ],
      "execution_count": null,
      "outputs": []
    },
    {
      "cell_type": "code",
      "metadata": {
        "id": "XHFJctxYDu-W",
        "colab": {
          "base_uri": "https://localhost:8080/",
          "height": 34
        },
        "outputId": "9dd480e8-1171-44bc-db9c-ac4f9360758d"
      },
      "source": [
        "3 and 5"
      ],
      "execution_count": null,
      "outputs": [
        {
          "output_type": "execute_result",
          "data": {
            "text/plain": [
              "5"
            ]
          },
          "metadata": {
            "tags": []
          },
          "execution_count": 11
        }
      ]
    },
    {
      "cell_type": "code",
      "metadata": {
        "id": "ViMM2sdlE_vd",
        "colab": {
          "base_uri": "https://localhost:8080/",
          "height": 34
        },
        "outputId": "43850947-ad0b-4ed8-e42d-b63febb7f861"
      },
      "source": [
        "True and True"
      ],
      "execution_count": null,
      "outputs": [
        {
          "output_type": "execute_result",
          "data": {
            "text/plain": [
              "True"
            ]
          },
          "metadata": {
            "tags": []
          },
          "execution_count": 16
        }
      ]
    },
    {
      "cell_type": "code",
      "metadata": {
        "id": "nsMkEVULD-jA"
      },
      "source": [
        "#or\n",
        "\"\"\" \n",
        "    0 - A | B | Y\n",
        "    1 - 0 | 0 | 0\n",
        "    2 - 0 | 1 | 1\n",
        "    3 - 1 | 0 | 1\n",
        "    4 - 1 | 1 | 1  \"\"\""
      ],
      "execution_count": null,
      "outputs": []
    },
    {
      "cell_type": "code",
      "metadata": {
        "id": "JKE-CYbPEKOf",
        "colab": {
          "base_uri": "https://localhost:8080/",
          "height": 34
        },
        "outputId": "f9100e8c-e3ac-4026-c225-91f508d46f31"
      },
      "source": [
        "3 or 5"
      ],
      "execution_count": null,
      "outputs": [
        {
          "output_type": "execute_result",
          "data": {
            "text/plain": [
              "3"
            ]
          },
          "metadata": {
            "tags": []
          },
          "execution_count": 12
        }
      ]
    },
    {
      "cell_type": "code",
      "metadata": {
        "id": "3anHpU5uEVAY",
        "colab": {
          "base_uri": "https://localhost:8080/",
          "height": 34
        },
        "outputId": "c8203bb4-e295-4530-b0b1-6b9eb0d79f38"
      },
      "source": [
        "bool(-500)"
      ],
      "execution_count": null,
      "outputs": [
        {
          "output_type": "execute_result",
          "data": {
            "text/plain": [
              "True"
            ]
          },
          "metadata": {
            "tags": []
          },
          "execution_count": 15
        }
      ]
    },
    {
      "cell_type": "code",
      "metadata": {
        "id": "iLSkXUEkEcud",
        "colab": {
          "base_uri": "https://localhost:8080/",
          "height": 34
        },
        "outputId": "704964a5-5bd3-4aed-d016-265778e9435e"
      },
      "source": [
        "bool(0)"
      ],
      "execution_count": null,
      "outputs": [
        {
          "output_type": "execute_result",
          "data": {
            "text/plain": [
              "False"
            ]
          },
          "metadata": {
            "tags": []
          },
          "execution_count": 14
        }
      ]
    },
    {
      "cell_type": "code",
      "metadata": {
        "id": "0j6vNG0qFYGY",
        "colab": {
          "base_uri": "https://localhost:8080/",
          "height": 34
        },
        "outputId": "ee08229c-16f3-4e3a-9789-8733cc4cf990"
      },
      "source": [
        "False and False"
      ],
      "execution_count": null,
      "outputs": [
        {
          "output_type": "execute_result",
          "data": {
            "text/plain": [
              "False"
            ]
          },
          "metadata": {
            "tags": []
          },
          "execution_count": 17
        }
      ]
    },
    {
      "cell_type": "code",
      "metadata": {
        "id": "juU4MjSIFgiM",
        "colab": {
          "base_uri": "https://localhost:8080/",
          "height": 34
        },
        "outputId": "a5c84170-dd9e-4e44-e074-e17f3cc4b0d6"
      },
      "source": [
        "True or False"
      ],
      "execution_count": null,
      "outputs": [
        {
          "output_type": "execute_result",
          "data": {
            "text/plain": [
              "True"
            ]
          },
          "metadata": {
            "tags": []
          },
          "execution_count": 19
        }
      ]
    },
    {
      "cell_type": "code",
      "metadata": {
        "id": "8LwnAryfFy5s",
        "colab": {
          "base_uri": "https://localhost:8080/",
          "height": 34
        },
        "outputId": "e9db5230-ff8a-4820-e325-64c783199082"
      },
      "source": [
        "bool(\"700\")"
      ],
      "execution_count": null,
      "outputs": [
        {
          "output_type": "execute_result",
          "data": {
            "text/plain": [
              "True"
            ]
          },
          "metadata": {
            "tags": []
          },
          "execution_count": 20
        }
      ]
    },
    {
      "cell_type": "code",
      "metadata": {
        "id": "8Kef-gGSF6sR",
        "colab": {
          "base_uri": "https://localhost:8080/",
          "height": 34
        },
        "outputId": "ceba305a-c01a-4338-e110-26be9513d1dc"
      },
      "source": [
        "bool(\"\")"
      ],
      "execution_count": null,
      "outputs": [
        {
          "output_type": "execute_result",
          "data": {
            "text/plain": [
              "False"
            ]
          },
          "metadata": {
            "tags": []
          },
          "execution_count": 21
        }
      ]
    },
    {
      "cell_type": "code",
      "metadata": {
        "id": "G7xe4xM2GGlD",
        "colab": {
          "base_uri": "https://localhost:8080/",
          "height": 34
        },
        "outputId": "31b8a8f6-f45c-424e-bbc0-c6c8c230046f"
      },
      "source": [
        "A = 10_000\n",
        "B = 15_000\n",
        "\n",
        "if A > B or A < B:\n",
        "    print(\"PRAVDA! A je mensi nez B\")  # True\n",
        "else:\n",
        "    print(\"NENI PRAVDA! A neni vetsi nez B\")  # False"
      ],
      "execution_count": null,
      "outputs": [
        {
          "output_type": "stream",
          "text": [
            "PRAVDA! A je mensi nez B\n"
          ],
          "name": "stdout"
        }
      ]
    },
    {
      "cell_type": "code",
      "metadata": {
        "id": "LkkpD420GXkU",
        "colab": {
          "base_uri": "https://localhost:8080/",
          "height": 34
        },
        "outputId": "f2ad951e-81b4-47c5-a967-55b8cd2d409a"
      },
      "source": [
        "A > B"
      ],
      "execution_count": null,
      "outputs": [
        {
          "output_type": "execute_result",
          "data": {
            "text/plain": [
              "False"
            ]
          },
          "metadata": {
            "tags": []
          },
          "execution_count": 22
        }
      ]
    },
    {
      "cell_type": "code",
      "metadata": {
        "id": "_RP_0JBqG-Xa"
      },
      "source": [
        "METRO = False              \n",
        "POCET_OBYVATEL = 350_734    "
      ],
      "execution_count": null,
      "outputs": []
    },
    {
      "cell_type": "code",
      "metadata": {
        "id": "CxuLztePHOZ_",
        "colab": {
          "base_uri": "https://localhost:8080/",
          "height": 34
        },
        "outputId": "90ed11d4-8e9e-4de6-ad1c-a27f3c1a1a0f"
      },
      "source": [
        "if POCET_OBYVATEL < 100_000:\n",
        "    print(\"Jde o male mesto\")\n",
        "elif POCET_OBYVATEL < 300_000:\n",
        "    print(\"Jde o velke mesto\")\n",
        "elif POCET_OBYVATEL == 374_734 and METRO == False:\n",
        "    print(\"Jasne BRNO!\")\n",
        "else:\n",
        "  print(\"Obrovske město\")"
      ],
      "execution_count": null,
      "outputs": [
        {
          "output_type": "stream",
          "text": [
            "Obrovske město\n"
          ],
          "name": "stdout"
        }
      ]
    },
    {
      "cell_type": "code",
      "metadata": {
        "id": "ffkSgZ9KIdgw",
        "colab": {
          "base_uri": "https://localhost:8080/",
          "height": 34
        },
        "outputId": "71aca8d1-8613-4949-f8bd-2d3809ee9e99"
      },
      "source": [
        "VEK = 0\n",
        "\n",
        "if VEK:\n",
        "  print(\"Jdi na pivo\")\n",
        "else:\n",
        "  print(\"Jdi studovat\")\n",
        "  exit()\n"
      ],
      "execution_count": null,
      "outputs": [
        {
          "output_type": "stream",
          "text": [
            "Jdi studovat\n"
          ],
          "name": "stdout"
        }
      ]
    },
    {
      "cell_type": "code",
      "metadata": {
        "id": "ukH4XWuyJYu4"
      },
      "source": [
        "jmeno = \"Jakub\"\n",
        "\n",
        "if jmeno == \"jakub\":\n",
        "  print(\"Ahoj\")"
      ],
      "execution_count": null,
      "outputs": []
    },
    {
      "cell_type": "code",
      "metadata": {
        "id": "MBA0cUy2MJTx"
      },
      "source": [
        "MESTA = (' Praha', 'Viden','Olomouc','Svitavy','Zlin','Ostrava')\n",
        "CENY = (150, 200, 120, 120, 100, 180)\n",
        "ODDELOVAC = '================================================================'\n",
        "SLEVY = ('Olomouc','Ostrava')\n",
        "AKTUALNI_ROK = 2020"
      ],
      "execution_count": null,
      "outputs": []
    },
    {
      "cell_type": "code",
      "metadata": {
        "id": "0gXAV5uULvvu",
        "colab": {
          "base_uri": "https://localhost:8080/",
          "height": 51
        },
        "outputId": "a86aab1a-99c3-44a7-b6cc-542cf0c5d7f7"
      },
      "source": [
        "# kontrola mého zadávání\n",
        "\n",
        "por_cislo = int(input(\"Zadej poradove cislo: \"))\n",
        "if por_cislo < 1 or por_cislo > 6:\n",
        "  print('Zadane cislo neni v nasi nabidce.')\n",
        "else:\n",
        "  destinace = MESTA[por_cislo-1]\n",
        "  cena = CENY[por_cislo -1]\n",
        "  print(f'Destinace: {destinace}')\n",
        "  print(ODDELOVAC)\n",
        "\n"
      ],
      "execution_count": null,
      "outputs": [
        {
          "output_type": "stream",
          "text": [
            "Zadej poradove cislo: 9\n",
            "Zadane cislo neni v nasi nabidce.\n"
          ],
          "name": "stdout"
        }
      ]
    },
    {
      "cell_type": "code",
      "metadata": {
        "id": "2yic2_F_Om6P",
        "colab": {
          "base_uri": "https://localhost:8080/",
          "height": 34
        },
        "outputId": "08058933-58d4-4d0f-b59f-556d1d46ba48"
      },
      "source": [
        "\"jakub\" in [\"Jakub\", \"Marek\", \"Lukas\", \"Jan\"]"
      ],
      "execution_count": null,
      "outputs": [
        {
          "output_type": "execute_result",
          "data": {
            "text/plain": [
              "False"
            ]
          },
          "metadata": {
            "tags": []
          },
          "execution_count": 6
        }
      ]
    },
    {
      "cell_type": "code",
      "metadata": {
        "id": "JVnTx610O1VE",
        "colab": {
          "base_uri": "https://localhost:8080/",
          "height": 34
        },
        "outputId": "1d86c1ad-f799-4906-b325-22fa7e1a16d3"
      },
      "source": [
        "\"a\" in \"Helena\""
      ],
      "execution_count": null,
      "outputs": [
        {
          "output_type": "execute_result",
          "data": {
            "text/plain": [
              "True"
            ]
          },
          "metadata": {
            "tags": []
          },
          "execution_count": 7
        }
      ]
    },
    {
      "cell_type": "code",
      "metadata": {
        "id": "AiQdYbB2PHgi"
      },
      "source": [
        "if destinace in SLEVY:\n",
        "  cena_po_sleve = 0.75 * cena\n",
        "else:\n",
        "  cena_po_sleve = cena "
      ],
      "execution_count": null,
      "outputs": []
    },
    {
      "cell_type": "code",
      "metadata": {
        "id": "tUg_G6_UPoXC",
        "colab": {
          "base_uri": "https://localhost:8080/",
          "height": 68
        },
        "outputId": "e24cabac-048f-4b9a-c5ed-134a977cf004"
      },
      "source": [
        "AKTUALNI_ROK = 2020\n",
        "rok_narozeni = int(input(\"Zadej rok narozeni: \"))\n",
        "kontrola = AKTUALNI_ROK - rok_narozeni\n",
        "\n",
        "if kontrola >= 18:\n",
        "  print('Pokracuji')\n",
        "  print(ODDELOVAC)\n",
        "else:\n",
        "  print('Nase sluzby jsou az od 18 let.')\n",
        "  exit()\n",
        "\n"
      ],
      "execution_count": null,
      "outputs": [
        {
          "output_type": "stream",
          "text": [
            "Zadej rok narozeni: 1994\n",
            "Pokracuji\n",
            "================================================================\n"
          ],
          "name": "stdout"
        }
      ]
    },
    {
      "cell_type": "code",
      "metadata": {
        "id": "t504pphERJJa",
        "colab": {
          "base_uri": "https://localhost:8080/",
          "height": 34
        },
        "outputId": "c60f9b4a-6f69-4d06-80e4-2e13da6d52fe"
      },
      "source": [
        "\"Jakub\".isalpha()"
      ],
      "execution_count": null,
      "outputs": [
        {
          "output_type": "execute_result",
          "data": {
            "text/plain": [
              "True"
            ]
          },
          "metadata": {
            "tags": []
          },
          "execution_count": 10
        }
      ]
    },
    {
      "cell_type": "code",
      "metadata": {
        "id": "_nu27ilhRkPX",
        "colab": {
          "base_uri": "https://localhost:8080/",
          "height": 34
        },
        "outputId": "7f533a73-db97-4bb8-c999-1da06694685f"
      },
      "source": [
        "\"Jak@b\".isalpha()"
      ],
      "execution_count": null,
      "outputs": [
        {
          "output_type": "execute_result",
          "data": {
            "text/plain": [
              "False"
            ]
          },
          "metadata": {
            "tags": []
          },
          "execution_count": 11
        }
      ]
    },
    {
      "cell_type": "code",
      "metadata": {
        "id": "srdXqmzfRznX",
        "colab": {
          "base_uri": "https://localhost:8080/",
          "height": 34
        },
        "outputId": "8f2da86c-c601-412a-d34f-c08bf9d92a1f"
      },
      "source": [
        "\"Jaku0\".isalpha()"
      ],
      "execution_count": null,
      "outputs": [
        {
          "output_type": "execute_result",
          "data": {
            "text/plain": [
              "False"
            ]
          },
          "metadata": {
            "tags": []
          },
          "execution_count": 12
        }
      ]
    },
    {
      "cell_type": "code",
      "metadata": {
        "id": "eG_GfxnNR6jD",
        "colab": {
          "base_uri": "https://localhost:8080/",
          "height": 163
        },
        "outputId": "74cba7b7-6ba4-4463-f002-fa85a82e502f"
      },
      "source": [
        "int(\"4556\").isalpha()"
      ],
      "execution_count": null,
      "outputs": [
        {
          "output_type": "error",
          "ename": "AttributeError",
          "evalue": "ignored",
          "traceback": [
            "\u001b[0;31m---------------------------------------------------------------------------\u001b[0m",
            "\u001b[0;31mAttributeError\u001b[0m                            Traceback (most recent call last)",
            "\u001b[0;32m<ipython-input-14-c721328c362b>\u001b[0m in \u001b[0;36m<module>\u001b[0;34m()\u001b[0m\n\u001b[0;32m----> 1\u001b[0;31m \u001b[0mint\u001b[0m\u001b[0;34m(\u001b[0m\u001b[0;34m\"4556\"\u001b[0m\u001b[0;34m)\u001b[0m\u001b[0;34m.\u001b[0m\u001b[0misalpha\u001b[0m\u001b[0;34m(\u001b[0m\u001b[0;34m)\u001b[0m\u001b[0;34m\u001b[0m\u001b[0;34m\u001b[0m\u001b[0m\n\u001b[0m",
            "\u001b[0;31mAttributeError\u001b[0m: 'int' object has no attribute 'isalpha'"
          ]
        }
      ]
    },
    {
      "cell_type": "code",
      "metadata": {
        "id": "qTjSD5YvSI_s",
        "colab": {
          "base_uri": "https://localhost:8080/",
          "height": 1000
        },
        "outputId": "c0b12a27-c581-4eef-8d59-39f1b83e916f"
      },
      "source": [
        "dir(\"Jakub\")"
      ],
      "execution_count": null,
      "outputs": [
        {
          "output_type": "execute_result",
          "data": {
            "text/plain": [
              "['__add__',\n",
              " '__class__',\n",
              " '__contains__',\n",
              " '__delattr__',\n",
              " '__dir__',\n",
              " '__doc__',\n",
              " '__eq__',\n",
              " '__format__',\n",
              " '__ge__',\n",
              " '__getattribute__',\n",
              " '__getitem__',\n",
              " '__getnewargs__',\n",
              " '__gt__',\n",
              " '__hash__',\n",
              " '__init__',\n",
              " '__init_subclass__',\n",
              " '__iter__',\n",
              " '__le__',\n",
              " '__len__',\n",
              " '__lt__',\n",
              " '__mod__',\n",
              " '__mul__',\n",
              " '__ne__',\n",
              " '__new__',\n",
              " '__reduce__',\n",
              " '__reduce_ex__',\n",
              " '__repr__',\n",
              " '__rmod__',\n",
              " '__rmul__',\n",
              " '__setattr__',\n",
              " '__sizeof__',\n",
              " '__str__',\n",
              " '__subclasshook__',\n",
              " 'capitalize',\n",
              " 'casefold',\n",
              " 'center',\n",
              " 'count',\n",
              " 'encode',\n",
              " 'endswith',\n",
              " 'expandtabs',\n",
              " 'find',\n",
              " 'format',\n",
              " 'format_map',\n",
              " 'index',\n",
              " 'isalnum',\n",
              " 'isalpha',\n",
              " 'isdecimal',\n",
              " 'isdigit',\n",
              " 'isidentifier',\n",
              " 'islower',\n",
              " 'isnumeric',\n",
              " 'isprintable',\n",
              " 'isspace',\n",
              " 'istitle',\n",
              " 'isupper',\n",
              " 'join',\n",
              " 'ljust',\n",
              " 'lower',\n",
              " 'lstrip',\n",
              " 'maketrans',\n",
              " 'partition',\n",
              " 'replace',\n",
              " 'rfind',\n",
              " 'rindex',\n",
              " 'rjust',\n",
              " 'rpartition',\n",
              " 'rsplit',\n",
              " 'rstrip',\n",
              " 'split',\n",
              " 'splitlines',\n",
              " 'startswith',\n",
              " 'strip',\n",
              " 'swapcase',\n",
              " 'title',\n",
              " 'translate',\n",
              " 'upper',\n",
              " 'zfill']"
            ]
          },
          "metadata": {
            "tags": []
          },
          "execution_count": 15
        }
      ]
    },
    {
      "cell_type": "code",
      "metadata": {
        "id": "pqsF9ZUISjMk",
        "colab": {
          "base_uri": "https://localhost:8080/",
          "height": 34
        },
        "outputId": "03479d9f-9ea5-4f76-98d7-846111bb9223"
      },
      "source": [
        "\"7350\".isnumeric()"
      ],
      "execution_count": null,
      "outputs": [
        {
          "output_type": "execute_result",
          "data": {
            "text/plain": [
              "True"
            ]
          },
          "metadata": {
            "tags": []
          },
          "execution_count": 16
        }
      ]
    },
    {
      "cell_type": "code",
      "metadata": {
        "id": "-bY3ZVfySqv-",
        "colab": {
          "base_uri": "https://localhost:8080/",
          "height": 51
        },
        "outputId": "c74ad5af-2ed0-4e52-ed45-eb44056901de"
      },
      "source": [
        "prijmeni = \"Valenta\"\n",
        "jmeno = \"Jakub\"\n",
        "if  not (jmeno + prijmeni).isnumeric():\n",
        "  print(f'Jmeno: {jmeno}, prijmeni: {prijmeni}')\n",
        "  print(ODDELOVAC)\n",
        "else:\n",
        "  print('Jmeno a prijmeni musi obsahovat pouze pismena.')\n",
        "  exit()"
      ],
      "execution_count": null,
      "outputs": [
        {
          "output_type": "stream",
          "text": [
            "Jmeno: Jakub, prijmeni: Valenta\n",
            "================================================================\n"
          ],
          "name": "stdout"
        }
      ]
    },
    {
      "cell_type": "code",
      "metadata": {
        "id": "mWyHm-jbTyxm",
        "colab": {
          "base_uri": "https://localhost:8080/",
          "height": 34
        },
        "outputId": "f127fe97-9a20-461a-b5ac-1caf5796fcd8"
      },
      "source": [
        "email = input('Email: ')"
      ],
      "execution_count": null,
      "outputs": [
        {
          "output_type": "stream",
          "text": [
            "Email: kubak.com\n"
          ],
          "name": "stdout"
        }
      ]
    },
    {
      "cell_type": "code",
      "metadata": {
        "id": "jAkUE0pEUFrY",
        "colab": {
          "base_uri": "https://localhost:8080/",
          "height": 34
        },
        "outputId": "a68488ed-2a27-432b-b393-eb1a8cdb731b"
      },
      "source": [
        "if \"@\" in email:\n",
        "  print('Email v poradku')\n",
        "  print(ODDELOVAC)\n",
        "else:\n",
        "  print('Nepodporovany format emailu!')\n",
        "  exit()\n"
      ],
      "execution_count": null,
      "outputs": [
        {
          "output_type": "stream",
          "text": [
            "Nepodporovany format emailu!\n"
          ],
          "name": "stdout"
        }
      ]
    },
    {
      "cell_type": "code",
      "metadata": {
        "id": "B_hZC9gpUjBW",
        "colab": {
          "base_uri": "https://localhost:8080/",
          "height": 34
        },
        "outputId": "27d469bd-276a-4a94-b085-ab19ce10556e"
      },
      "source": [
        "heslo = input(\"Heslo: \")\n"
      ],
      "execution_count": null,
      "outputs": [
        {
          "output_type": "stream",
          "text": [
            "Heslo: 89456652\n"
          ],
          "name": "stdout"
        }
      ]
    },
    {
      "cell_type": "code",
      "metadata": {
        "id": "r_aa49AAVKwA",
        "colab": {
          "base_uri": "https://localhost:8080/",
          "height": 68
        },
        "outputId": "d0944d30-192f-4cd5-d1c0-d0f283a15eaf"
      },
      "source": [
        "if (len(heslo) >= 8 and not heslo.isalpha()) and not heslo.isnumeric():\n",
        "  print('Heslo je v poradku.')\n",
        "  print(ODDELOVAC)\n",
        "  print('Uzivatel: '+ jmeno)\n",
        "  print('Destinace: ' + destinace)\n",
        "  print(f'Cena(cil: {destinace})' + str(cena_po_sleve))\n",
        "  print('jizdenku posleme na Vasi adresu: ', email ) \n",
        "else:\n",
        "  print('''Vami zadane heslo je spatn! \n",
        "  1. Musi obsahovat Jak pismena, tak cislice\n",
        "  2. Musi byt alespon 8 znaku dlouhe''')\n",
        "  exit()"
      ],
      "execution_count": null,
      "outputs": [
        {
          "output_type": "stream",
          "text": [
            "Vami zadane heslo je spatn! \n",
            "  1. Musi obsahovat Jak pismena, tak cislice\n",
            "  2. Musi byt alespon 8 znaku dlouhe\n"
          ],
          "name": "stdout"
        }
      ]
    },
    {
      "cell_type": "code",
      "metadata": {
        "id": "RwES98yWZdgd",
        "colab": {
          "base_uri": "https://localhost:8080/",
          "height": 163
        },
        "outputId": "1cd38f0d-4693-4c9a-fa1b-aa2d5929f8d6"
      },
      "source": [
        "(len(heslo) >= 8 and not heslo.isalpha()) and not heslo.isnumeric() or "
      ],
      "execution_count": null,
      "outputs": [
        {
          "output_type": "error",
          "ename": "NameError",
          "evalue": "ignored",
          "traceback": [
            "\u001b[0;31m---------------------------------------------------------------------------\u001b[0m",
            "\u001b[0;31mNameError\u001b[0m                                 Traceback (most recent call last)",
            "\u001b[0;32m<ipython-input-1-e00fb3556c6f>\u001b[0m in \u001b[0;36m<module>\u001b[0;34m()\u001b[0m\n\u001b[0;32m----> 1\u001b[0;31m \u001b[0;34m(\u001b[0m\u001b[0mlen\u001b[0m\u001b[0;34m(\u001b[0m\u001b[0mheslo\u001b[0m\u001b[0;34m)\u001b[0m \u001b[0;34m>=\u001b[0m \u001b[0;36m8\u001b[0m \u001b[0;32mand\u001b[0m \u001b[0;32mnot\u001b[0m \u001b[0mheslo\u001b[0m\u001b[0;34m.\u001b[0m\u001b[0misalpha\u001b[0m\u001b[0;34m(\u001b[0m\u001b[0;34m)\u001b[0m\u001b[0;34m)\u001b[0m \u001b[0;32mand\u001b[0m \u001b[0;32mnot\u001b[0m \u001b[0mheslo\u001b[0m\u001b[0;34m.\u001b[0m\u001b[0misnumeric\u001b[0m\u001b[0;34m(\u001b[0m\u001b[0;34m)\u001b[0m\u001b[0;34m\u001b[0m\u001b[0;34m\u001b[0m\u001b[0m\n\u001b[0m",
            "\u001b[0;31mNameError\u001b[0m: name 'heslo' is not defined"
          ]
        }
      ]
    },
    {
      "cell_type": "code",
      "metadata": {
        "id": "Aao8pEiaZ0ac",
        "colab": {
          "base_uri": "https://localhost:8080/",
          "height": 34
        },
        "outputId": "993fa028-08fb-4ca6-da0e-6e168783269f"
      },
      "source": [
        "bool((True and False) or True)"
      ],
      "execution_count": null,
      "outputs": [
        {
          "output_type": "execute_result",
          "data": {
            "text/plain": [
              "True"
            ]
          },
          "metadata": {
            "tags": []
          },
          "execution_count": 3
        }
      ]
    },
    {
      "cell_type": "code",
      "metadata": {
        "id": "iPIDFsxoQjW7",
        "colab": {
          "base_uri": "https://localhost:8080/",
          "height": 34
        },
        "outputId": "794ea4c4-7997-4b29-f9e0-4f693d528e14"
      },
      "source": [
        "#Zkrácený zápis if-else\n",
        "VEK = 12\n",
        "stav = \"mladi\" if VEK < 18 else \"dospelost\" \n",
        "print(stav)"
      ],
      "execution_count": null,
      "outputs": [
        {
          "output_type": "stream",
          "text": [
            "mladi\n"
          ],
          "name": "stdout"
        }
      ]
    },
    {
      "cell_type": "code",
      "metadata": {
        "id": "RjgAPCCSQ9E4",
        "colab": {
          "base_uri": "https://localhost:8080/",
          "height": 464
        },
        "outputId": "20af18f8-4f64-411f-f2d6-8940ee4a1215"
      },
      "source": [
        "\"\"\" Lekce #2 - Uvod do programovani, 2/2 Destinatio \"\"\"\n",
        "\n",
        "SEZNAM_MEST = (\"Praha\", \"Viden\", \"Olomouc\", \"Svitavy\", \"Zlin\", \"Ostrava\")\n",
        "SEZNAM_CEN = (150, 200, 120, 120, 100, 180)\n",
        "ODDELOVAC = \"=\" * 35\n",
        "\n",
        "print(ODDELOVAC)\n",
        "print(\"Vitejte u nasi aplikace Destinatio!\")\n",
        "print(ODDELOVAC)\n",
        "print(\n",
        "    \"\"\"\n",
        "1 - Praha   | 150\n",
        "2 - Viden   | 200\n",
        "3 - Olomouc | 120\n",
        "4 - Svitavy | 120\n",
        "5 - Zlin    | 100\n",
        "6 - Ostrava | 180\n",
        "\"\"\"\n",
        ")\n",
        "\n",
        "print(ODDELOVAC)\n",
        "\n",
        "# I. KROK:\n",
        "# Update/doplnit zadani\n",
        "SLEVY = (\"Olomouc\", \"Ostrava\")\n",
        "\n",
        "# II. KROK:\n",
        "# Spravne cislo lokality! 1 < x < 6\n",
        "por_cislo = int(input(\"Vyberte cislo lokality: \"))\n",
        "\n",
        "if por_cislo < 1 or por_cislo > 6:\n",
        "    print(\"Vami vybrane cislo neni v nabidce, ukoncuji\")\n",
        "    exit()\n",
        "else:\n",
        "    destinace = SEZNAM_MEST[por_cislo - 1]\n",
        "    cena = SEZNAM_CEN[por_cislo - 1]\n",
        "    print(f\"DESTINACE: {destinace}\")\n",
        "    print(ODDELOVAC)\n",
        "\n",
        "# III. KROK:\n",
        "# Vyresime pouziti slevy --> ANO/NE\n",
        "if destinace in SLEVY:\n",
        "    cena_po_sleve = 0.75 * cena\n",
        "else:\n",
        "    cena_po_sleve = cena\n",
        "\n",
        "# IV. KROK:\n",
        "# jmeno + prijmeni obsahuje jen pismena\n",
        "jmeno = input(\"JMENO: \")\n",
        "prijmeni = input(\"PRIJMENI: \")\n",
        "\n",
        "if jmeno.isalpha() and prijmeni.isalpha():\n",
        "    print(f\"JMENO: {jmeno}, PRIJMENI: {prijmeni}\")\n",
        "    print(ODDELOVAC)\n",
        "else:\n",
        "    print(\"Jmeno a prijmeni musi obsahovat pouze pismena, ukoncuji\")\n",
        "    exit()\n",
        "\n",
        "# V. KROK:\n",
        "# aktualni rok - datum narozeni --> > 18\n",
        "AKT_ROK = 2020\n",
        "vek = int(input(\"ROK NAROZENI: \"))\n",
        "\n",
        "if (AKT_ROK - vek) >= 18:\n",
        "    print(f\"Pokracuji...\")\n",
        "    print(ODDELOVAC)\n",
        "else:\n",
        "    print(\"Nase sluzby mohou vyuzivat pouze osoby starsi 18 let, ukoncuji\")\n",
        "    exit()\n",
        "\n",
        "# VI. KROK:\n",
        "# Spravny email\n",
        "email = input(\"EMAIL: \")\n",
        "if \"@\" in email:\n",
        "    print(\"Email v poradku, pokracuji...\")\n",
        "    print(ODDELOVAC)\n",
        "else:\n",
        "    print(\"Nepodporovany format emailu, ukoncuji\")\n",
        "    exit()\n",
        "\n",
        "# VII. KROK:\n",
        "# Heslo obsahuje jak cisla, tak pismena + delka?\n",
        "heslo = input(\"HESLO: \")\n",
        "\n",
        "if len(heslo) >= 8 and not heslo.isalpha() and not heslo.isnumeric():\n",
        "    print(\"Heslo v poradku\")\n",
        "    print(ODDELOVAC)\n",
        "    print(\"UZIVATEL: \" + jmeno)\n",
        "    print(\"DESTINACE: \" + destinace)\n",
        "    print(\"CENA(cil:\" + destinace + \"): \" + str(cena_po_sleve))\n",
        "    print(f\"Jizdenku posleme na Vasi emailovou adresu: {email}\")\n",
        "else:\n",
        "    print(\n",
        "        \"\"\"\n",
        "    Tvoje heslo je spatne zadane:\n",
        "\t1. Musi obsahovat alespon 8 znaku,\n",
        "\t2. Musi obsahovat pismena,\n",
        "  3. Musi obsahovat cislice\n",
        "    \"\"\"\n",
        "    )"
      ],
      "execution_count": null,
      "outputs": [
        {
          "output_type": "stream",
          "text": [
            "===================================\n",
            "Vitejte u nasi aplikace Destinatio!\n",
            "===================================\n",
            "\n",
            "1 - Praha   | 150\n",
            "2 - Viden   | 200\n",
            "3 - Olomouc | 120\n",
            "4 - Svitavy | 120\n",
            "5 - Zlin    | 100\n",
            "6 - Ostrava | 180\n",
            "\n",
            "===================================\n",
            "Vyberte cislo lokality: 7\n",
            "Vami vybrane cislo neni v nabidce, ukoncuji\n"
          ],
          "name": "stdout"
        },
        {
          "output_type": "error",
          "ename": "NameError",
          "evalue": "ignored",
          "traceback": [
            "\u001b[0;31m---------------------------------------------------------------------------\u001b[0m",
            "\u001b[0;31mNameError\u001b[0m                                 Traceback (most recent call last)",
            "\u001b[0;32m<ipython-input-2-4ff86ef01ef0>\u001b[0m in \u001b[0;36m<module>\u001b[0;34m()\u001b[0m\n\u001b[1;32m     40\u001b[0m \u001b[0;31m# III. KROK:\u001b[0m\u001b[0;34m\u001b[0m\u001b[0;34m\u001b[0m\u001b[0;34m\u001b[0m\u001b[0m\n\u001b[1;32m     41\u001b[0m \u001b[0;31m# Vyresime pouziti slevy --> ANO/NE\u001b[0m\u001b[0;34m\u001b[0m\u001b[0;34m\u001b[0m\u001b[0;34m\u001b[0m\u001b[0m\n\u001b[0;32m---> 42\u001b[0;31m \u001b[0;32mif\u001b[0m \u001b[0mdestinace\u001b[0m \u001b[0;32min\u001b[0m \u001b[0mSLEVY\u001b[0m\u001b[0;34m:\u001b[0m\u001b[0;34m\u001b[0m\u001b[0;34m\u001b[0m\u001b[0m\n\u001b[0m\u001b[1;32m     43\u001b[0m     \u001b[0mcena_po_sleve\u001b[0m \u001b[0;34m=\u001b[0m \u001b[0;36m0.75\u001b[0m \u001b[0;34m*\u001b[0m \u001b[0mcena\u001b[0m\u001b[0;34m\u001b[0m\u001b[0;34m\u001b[0m\u001b[0m\n\u001b[1;32m     44\u001b[0m \u001b[0;32melse\u001b[0m\u001b[0;34m:\u001b[0m\u001b[0;34m\u001b[0m\u001b[0;34m\u001b[0m\u001b[0m\n",
            "\u001b[0;31mNameError\u001b[0m: name 'destinace' is not defined"
          ]
        }
      ]
    }
  ]
}